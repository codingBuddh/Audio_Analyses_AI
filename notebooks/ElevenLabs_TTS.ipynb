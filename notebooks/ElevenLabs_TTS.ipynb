{
 "cells": [
  {
   "cell_type": "code",
   "execution_count": null,
   "id": "16cab4ff-da43-415c-a6ec-ab242048d10e",
   "metadata": {},
   "outputs": [],
   "source": [
    "API=sk_5d0dcd8c1431fd44a0125881513dac943a9f18b5ad3cab62"
   ]
  },
  {
   "cell_type": "code",
   "execution_count": 1,
   "id": "99f80811-d18f-40f2-87c5-abb024d06168",
   "metadata": {},
   "outputs": [
    {
     "name": "stdout",
     "output_type": "stream",
     "text": [
      "\n",
      "\u001b[1m[\u001b[0m\u001b[34;49mnotice\u001b[0m\u001b[1;39;49m]\u001b[0m\u001b[39;49m A new release of pip is available: \u001b[0m\u001b[31;49m24.0\u001b[0m\u001b[39;49m -> \u001b[0m\u001b[32;49m24.3.1\u001b[0m\n",
      "\u001b[1m[\u001b[0m\u001b[34;49mnotice\u001b[0m\u001b[1;39;49m]\u001b[0m\u001b[39;49m To update, run: \u001b[0m\u001b[32;49m/Library/Frameworks/Python.framework/Versions/3.11/bin/python3.11 -m pip install --upgrade pip\u001b[0m\n",
      "Note: you may need to restart the kernel to use updated packages.\n"
     ]
    }
   ],
   "source": [
    "%pip install --upgrade --quiet  elevenlabs langchain-community\n",
    "\n"
   ]
  },
  {
   "cell_type": "code",
   "execution_count": 2,
   "id": "39b5c4f4-9aeb-4ced-80b4-af60b7a47eb2",
   "metadata": {},
   "outputs": [],
   "source": [
    "import os\n",
    "\n",
    "os.environ[\"ELEVEN_API_KEY\"] = \"sk_5d0dcd8c1431fd44a0125881513dac943a9f18b5ad3cab62\""
   ]
  },
  {
   "cell_type": "code",
   "execution_count": 4,
   "id": "c562900d-0b6c-4730-92cc-f25cd20d9c79",
   "metadata": {},
   "outputs": [
    {
     "ename": "RuntimeError",
     "evalue": "Error while running ElevenLabsText2SpeechTool: module 'elevenlabs' has no attribute 'generate'",
     "output_type": "error",
     "traceback": [
      "\u001b[0;31m---------------------------------------------------------------------------\u001b[0m",
      "\u001b[0;31mAttributeError\u001b[0m                            Traceback (most recent call last)",
      "File \u001b[0;32m/Library/Frameworks/Python.framework/Versions/3.11/lib/python3.11/site-packages/langchain_community/tools/eleven_labs/text2speech.py:59\u001b[0m, in \u001b[0;36mElevenLabsText2SpeechTool._run\u001b[0;34m(self, query, run_manager)\u001b[0m\n\u001b[1;32m     58\u001b[0m \u001b[38;5;28;01mtry\u001b[39;00m:\n\u001b[0;32m---> 59\u001b[0m     speech \u001b[38;5;241m=\u001b[39m \u001b[43melevenlabs\u001b[49m\u001b[38;5;241;43m.\u001b[39;49m\u001b[43mgenerate\u001b[49m(text\u001b[38;5;241m=\u001b[39mquery, model\u001b[38;5;241m=\u001b[39m\u001b[38;5;28mself\u001b[39m\u001b[38;5;241m.\u001b[39mmodel)\n\u001b[1;32m     60\u001b[0m     \u001b[38;5;28;01mwith\u001b[39;00m tempfile\u001b[38;5;241m.\u001b[39mNamedTemporaryFile(\n\u001b[1;32m     61\u001b[0m         mode\u001b[38;5;241m=\u001b[39m\u001b[38;5;124m\"\u001b[39m\u001b[38;5;124mbx\u001b[39m\u001b[38;5;124m\"\u001b[39m, suffix\u001b[38;5;241m=\u001b[39m\u001b[38;5;124m\"\u001b[39m\u001b[38;5;124m.wav\u001b[39m\u001b[38;5;124m\"\u001b[39m, delete\u001b[38;5;241m=\u001b[39m\u001b[38;5;28;01mFalse\u001b[39;00m\n\u001b[1;32m     62\u001b[0m     ) \u001b[38;5;28;01mas\u001b[39;00m f:\n",
      "\u001b[0;31mAttributeError\u001b[0m: module 'elevenlabs' has no attribute 'generate'",
      "\nDuring handling of the above exception, another exception occurred:\n",
      "\u001b[0;31mRuntimeError\u001b[0m                              Traceback (most recent call last)",
      "Cell \u001b[0;32mIn[4], line 8\u001b[0m\n\u001b[1;32m      5\u001b[0m tts \u001b[38;5;241m=\u001b[39m ElevenLabsText2SpeechTool()\n\u001b[1;32m      6\u001b[0m tts\u001b[38;5;241m.\u001b[39mname\n\u001b[0;32m----> 8\u001b[0m speech_file \u001b[38;5;241m=\u001b[39m \u001b[43mtts\u001b[49m\u001b[38;5;241;43m.\u001b[39;49m\u001b[43mrun\u001b[49m\u001b[43m(\u001b[49m\u001b[43mtext_to_speak\u001b[49m\u001b[43m)\u001b[49m\n\u001b[1;32m      9\u001b[0m tts\u001b[38;5;241m.\u001b[39mplay(speech_file)\n\u001b[1;32m     11\u001b[0m \u001b[38;5;66;03m# import shutil\u001b[39;00m\n\u001b[1;32m     12\u001b[0m \n\u001b[1;32m     13\u001b[0m \u001b[38;5;66;03m# # Generate audio (saved to temp file)\u001b[39;00m\n\u001b[0;32m   (...)\u001b[0m\n\u001b[1;32m     21\u001b[0m \u001b[38;5;66;03m# # OR\u001b[39;00m\n\u001b[1;32m     22\u001b[0m \u001b[38;5;66;03m# shutil.copy(speech_file, output_path)  # Copies the file\u001b[39;00m\n",
      "File \u001b[0;32m/Library/Frameworks/Python.framework/Versions/3.11/lib/python3.11/site-packages/langchain_core/tools/base.py:725\u001b[0m, in \u001b[0;36mBaseTool.run\u001b[0;34m(self, tool_input, verbose, start_color, color, callbacks, tags, metadata, run_name, run_id, config, tool_call_id, **kwargs)\u001b[0m\n\u001b[1;32m    723\u001b[0m \u001b[38;5;28;01mif\u001b[39;00m error_to_raise:\n\u001b[1;32m    724\u001b[0m     run_manager\u001b[38;5;241m.\u001b[39mon_tool_error(error_to_raise)\n\u001b[0;32m--> 725\u001b[0m     \u001b[38;5;28;01mraise\u001b[39;00m error_to_raise\n\u001b[1;32m    726\u001b[0m output \u001b[38;5;241m=\u001b[39m _format_output(content, artifact, tool_call_id, \u001b[38;5;28mself\u001b[39m\u001b[38;5;241m.\u001b[39mname, status)\n\u001b[1;32m    727\u001b[0m run_manager\u001b[38;5;241m.\u001b[39mon_tool_end(output, color\u001b[38;5;241m=\u001b[39mcolor, name\u001b[38;5;241m=\u001b[39m\u001b[38;5;28mself\u001b[39m\u001b[38;5;241m.\u001b[39mname, \u001b[38;5;241m*\u001b[39m\u001b[38;5;241m*\u001b[39mkwargs)\n",
      "File \u001b[0;32m/Library/Frameworks/Python.framework/Versions/3.11/lib/python3.11/site-packages/langchain_core/tools/base.py:693\u001b[0m, in \u001b[0;36mBaseTool.run\u001b[0;34m(self, tool_input, verbose, start_color, color, callbacks, tags, metadata, run_name, run_id, config, tool_call_id, **kwargs)\u001b[0m\n\u001b[1;32m    691\u001b[0m \u001b[38;5;28;01mif\u001b[39;00m config_param \u001b[38;5;241m:=\u001b[39m _get_runnable_config_param(\u001b[38;5;28mself\u001b[39m\u001b[38;5;241m.\u001b[39m_run):\n\u001b[1;32m    692\u001b[0m     tool_kwargs \u001b[38;5;241m=\u001b[39m tool_kwargs \u001b[38;5;241m|\u001b[39m {config_param: config}\n\u001b[0;32m--> 693\u001b[0m response \u001b[38;5;241m=\u001b[39m \u001b[43mcontext\u001b[49m\u001b[38;5;241;43m.\u001b[39;49m\u001b[43mrun\u001b[49m\u001b[43m(\u001b[49m\u001b[38;5;28;43mself\u001b[39;49m\u001b[38;5;241;43m.\u001b[39;49m\u001b[43m_run\u001b[49m\u001b[43m,\u001b[49m\u001b[43m \u001b[49m\u001b[38;5;241;43m*\u001b[39;49m\u001b[43mtool_args\u001b[49m\u001b[43m,\u001b[49m\u001b[43m \u001b[49m\u001b[38;5;241;43m*\u001b[39;49m\u001b[38;5;241;43m*\u001b[39;49m\u001b[43mtool_kwargs\u001b[49m\u001b[43m)\u001b[49m\n\u001b[1;32m    694\u001b[0m \u001b[38;5;28;01mif\u001b[39;00m \u001b[38;5;28mself\u001b[39m\u001b[38;5;241m.\u001b[39mresponse_format \u001b[38;5;241m==\u001b[39m \u001b[38;5;124m\"\u001b[39m\u001b[38;5;124mcontent_and_artifact\u001b[39m\u001b[38;5;124m\"\u001b[39m:\n\u001b[1;32m    695\u001b[0m     \u001b[38;5;28;01mif\u001b[39;00m \u001b[38;5;129;01mnot\u001b[39;00m \u001b[38;5;28misinstance\u001b[39m(response, \u001b[38;5;28mtuple\u001b[39m) \u001b[38;5;129;01mor\u001b[39;00m \u001b[38;5;28mlen\u001b[39m(response) \u001b[38;5;241m!=\u001b[39m \u001b[38;5;241m2\u001b[39m:\n",
      "File \u001b[0;32m/Library/Frameworks/Python.framework/Versions/3.11/lib/python3.11/site-packages/langchain_community/tools/eleven_labs/text2speech.py:66\u001b[0m, in \u001b[0;36mElevenLabsText2SpeechTool._run\u001b[0;34m(self, query, run_manager)\u001b[0m\n\u001b[1;32m     64\u001b[0m     \u001b[38;5;28;01mreturn\u001b[39;00m f\u001b[38;5;241m.\u001b[39mname\n\u001b[1;32m     65\u001b[0m \u001b[38;5;28;01mexcept\u001b[39;00m \u001b[38;5;167;01mException\u001b[39;00m \u001b[38;5;28;01mas\u001b[39;00m e:\n\u001b[0;32m---> 66\u001b[0m     \u001b[38;5;28;01mraise\u001b[39;00m \u001b[38;5;167;01mRuntimeError\u001b[39;00m(\u001b[38;5;124mf\u001b[39m\u001b[38;5;124m\"\u001b[39m\u001b[38;5;124mError while running ElevenLabsText2SpeechTool: \u001b[39m\u001b[38;5;132;01m{\u001b[39;00me\u001b[38;5;132;01m}\u001b[39;00m\u001b[38;5;124m\"\u001b[39m)\n",
      "\u001b[0;31mRuntimeError\u001b[0m: Error while running ElevenLabsText2SpeechTool: module 'elevenlabs' has no attribute 'generate'"
     ]
    }
   ],
   "source": [
    "from langchain_community.tools import ElevenLabsText2SpeechTool\n",
    "\n",
    "text_to_speak = \"You're walking on the street and suddenly you find a piece of gold, you pick it up and you get super curious. You have a lot of questions in your mind. One of the questions is, what happens if you were to break it? I mean, surely you can't break it with your own hands but hey, when has that stopped you from imagining things, right? So what happens if you break this? Well, you get two pieces of gold and then you wonder, well, what if you break it even further? You get even more smaller pieces. And what if you break it even further? We get even more smaller pieces. And now you start wondering, 'Hey, can I keep doing that?' Can I keep breaking this piece of gold forever? That's what we we're gonna talk about in this video. This was a question that many ancient philosophers from India, Greece, Roman, probably many more, pondered upon. They wondered, if you take any element, remember what elements are? These are roughly about 100 building blocks that make up all the matter in the universe, gold is an example of them. So they wondered, if you take any element, could you keep breaking them down forever? And a lot of them thought, that maybe the answer is no. Maybe you can't keep breaking it forever. Maybe eventually, you will get one last smallest piece of that element, a smallest piece of gold, for example, which you cannot break any further. A lot of people believed in this idea, and the Greeks actually named this smallest piece, the atom. The word atom literally means uncuttable because they believe that you cannot break this even more. Now, for a long time, many people didn't believe in this idea. So for centuries, the idea of atom was suppressed until it was revived back by scientists like John Dalton. And today we have plenty of evidence that they do exist. So, what exactly are atoms? Well, think of atoms as the smallest piece of an element that has all the properties of that element. It is literally the building block of the element itself. For example, what's a gold atom? Gold atoms are the smallest pieces of gold, which has all the properties of gold. They're the building blocks of gold. What's a carbon atom? Well, they are the smallest pieces of carbon. They're the building blocks of carbon. They have all the properties of carbon. And just to give you another example, what's mercury atom? They're the smallest pieces of mercury. They have all the properties of the element mercury and so on and so forth. Now, one question you could be having is, do atoms look like tiny balls? And the answer is no, it's just a representation. In reality, atoms are so incredibly tiny, we can't even see them with microscopes. So how tiny are they you ask? Well, their size is incredibly hard to comprehend. So here's a way to think about it, how many gold atoms do you think you will find in a typical gold ring? Well, it's not millions, not billions, it's sextillions that's one followed by 21 zeros, that many atoms you'll probably find in a gold ring. And just to get a sense of this number scientists estimate that that is roughly about the total number of stars in the observable universe. Let that sink in. That's how small atoms are. So long story short, almost all the matter in the universe, from the microbes to dogs and cats, to mountains to planets and stars, and almost everything that you see in this universe, they're all fundamentally made of elements. These are the building blocks of all the matter in the universe. We have about 100 of them. But what are elements fundamentally made of? Elements like gold or any other element for that matter they are fundamentally made of atoms. They are the smallest pieces of the elements, the building blocks of the elements that contain all the properties of that element.\"\n",
    "\n",
    "tts = ElevenLabsText2SpeechTool()\n",
    "tts.name\n",
    "\n",
    "speech_file = tts.run(text_to_speak)\n",
    "tts.play(speech_file)\n",
    "\n",
    "# import shutil\n",
    "\n",
    "# # Generate audio (saved to temp file)\n",
    "# speech_file = tts.run(text_to_speak)\n",
    "\n",
    "# # Define your desired output path\n",
    "# output_path = \"output.mp3\"\n",
    "\n",
    "# # Copy or move the temp file\n",
    "# shutil.move(speech_file, output_path)  # Moves the file\n",
    "# # OR\n",
    "# shutil.copy(speech_file, output_path)  # Copies the file"
   ]
  }
 ],
 "metadata": {
  "kernelspec": {
   "display_name": "Python 3 (ipykernel)",
   "language": "python",
   "name": "python3"
  },
  "language_info": {
   "codemirror_mode": {
    "name": "ipython",
    "version": 3
   },
   "file_extension": ".py",
   "mimetype": "text/x-python",
   "name": "python",
   "nbconvert_exporter": "python",
   "pygments_lexer": "ipython3",
   "version": "3.11.9"
  }
 },
 "nbformat": 4,
 "nbformat_minor": 5
}
