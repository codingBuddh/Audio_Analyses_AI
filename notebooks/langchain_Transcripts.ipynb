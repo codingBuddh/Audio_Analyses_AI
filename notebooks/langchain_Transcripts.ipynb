{
 "cells": [
  {
   "cell_type": "code",
   "execution_count": 1,
   "id": "45947c15-512c-4cef-bda3-0498cba6ef5a",
   "metadata": {},
   "outputs": [],
   "source": [
    "from langchain_community.document_loaders import YoutubeLoader\n",
    "\n"
   ]
  },
  {
   "cell_type": "code",
   "execution_count": 2,
   "id": "7519b5c1-eaf0-434c-b265-61c534e12c65",
   "metadata": {},
   "outputs": [
    {
     "name": "stdout",
     "output_type": "stream",
     "text": [
      "\n",
      "\u001b[1m[\u001b[0m\u001b[34;49mnotice\u001b[0m\u001b[1;39;49m]\u001b[0m\u001b[39;49m A new release of pip is available: \u001b[0m\u001b[31;49m24.0\u001b[0m\u001b[39;49m -> \u001b[0m\u001b[32;49m24.3.1\u001b[0m\n",
      "\u001b[1m[\u001b[0m\u001b[34;49mnotice\u001b[0m\u001b[1;39;49m]\u001b[0m\u001b[39;49m To update, run: \u001b[0m\u001b[32;49m/Library/Frameworks/Python.framework/Versions/3.11/bin/python3.11 -m pip install --upgrade pip\u001b[0m\n",
      "Note: you may need to restart the kernel to use updated packages.\n"
     ]
    }
   ],
   "source": [
    "%pip install --upgrade --quiet  youtube-transcript-api\n"
   ]
  },
  {
   "cell_type": "code",
   "execution_count": 3,
   "id": "486bac1a-cda7-4dc1-88e8-dab9c4a7ea4e",
   "metadata": {},
   "outputs": [],
   "source": [
    "loader = YoutubeLoader.from_youtube_url(\n",
    "    \"https://www.youtube.com/watch?v=KyBgxe-rU48\", add_video_info=False\n",
    ")"
   ]
  },
  {
   "cell_type": "code",
   "execution_count": 4,
   "id": "dd011bb5-49f4-41a9-8416-0ead832b93ba",
   "metadata": {},
   "outputs": [
    {
     "data": {
      "text/plain": [
       "[Document(metadata={'source': 'KyBgxe-rU48'}, page_content='- [Narrator] You\\'re walking on the street and suddenly you find a piece of gold, you pick it up and you get super curious. You have a lot of questions in your mind. One of the questions is, what happens if you were to break it? I mean, surely you can\\'t\\nbreak it with your own hands but hey, when has that stopped you from imagining things, right? So what happens if you break this? Well, you get two pieces of\\ngold and then you wonder, well, what if you break it even further? You get even more smaller pieces. And what if you break it even further? We get even more smaller pieces. And now you start wondering,\\n\"Hey, can I keep doing that?\" Can I keep breaking this\\npiece of gold forever? That\\'s what we we\\'re gonna\\ntalk about in this video. This was a question that many ancient philosophers\\nfrom India, Greece, Roman, probably many more, pondered upon. They wondered, if you take any element, remember what elements are? These are roughly about\\n100 building blocks that make up all the\\nmatter in the universe gold is an example of them. So they wondered, if you take any element, could you keep breaking them down forever? And a lot of them thought,\\nthat maybe the answer is no. Maybe you can\\'t keep breaking it forever. Maybe eventually, you will get one last smallest piece of that element, a smallest piece of gold, for example, which you cannot break any further. A lot of people believed in this idea, and the Greeks actually named\\nthis smallest piece, the atom. The word atom literally means uncuttable because they believe that you\\ncannot break this even more. Now, for a long time, many people didn\\'t believe in this idea. So for centuries, the idea\\nof atom was suppressed until it was revived back by\\nscientists like John Dalton. And today we have plenty of\\nevidence that they do exist. So, what exactly are atoms? Well, think of atoms as the\\nsmallest piece of an element that has all the\\nproperties of that element. It is literally the building\\nblock of the element itself. For example, what\\'s a gold atom? Gold atoms are the\\nsmallest pieces of gold, which has all the properties of gold. They\\'re the building blocks of gold. What\\'s a carbon atom? Well, they are the\\nsmallest pieces of carbon They\\'re the building blocks of carbon. They have all the properties of carbon. And just to give you another\\nexample, what\\'s mercury atom? They\\'re the smallest pieces of mercury. They have all the properties\\nof the element mercury and so on and so forth. Now, one question you could be having is, do atoms look like tiny balls? And the answer is no, it\\'s\\njust a representation. In reality, atoms are so incredibly tiny, we can\\'t even see them with microscopes. So how tiny are they you ask? Well, their size is\\nincredibly hard to comprehend. So here\\'s a way to think\\nabout it, how many gold atoms do you think you will find\\nin a typical gold ring? Well, it\\'s not millions, not\\nbillions, it\\'s sextillions that\\'s one followed by 21 zeros, that many atoms you\\'ll\\nprobably find in a gold ring. And just to get a sense of this number scientists estimate that\\nthat is roughly about the total number of stars\\nin the observable universe. Let that sink in. That\\'s\\nhow small atoms are. So long story short, almost\\nall the matter in the universe, from the microbes to dogs and cats, to mountains to planets and stars, and almost everything that\\nyou see in this universe, they\\'re all fundamentally\\nmade of elements. These are the building blocks of all the matter in the universe. We have about 100 of them. But what are elements\\nfundamentally made of? Elements like gold or any\\nother element for that matter they are fundamentally made of atoms. They are the smallest\\npieces of the elements, the building blocks of the elements that contain all the\\nproperties of that element.')]"
      ]
     },
     "execution_count": 4,
     "metadata": {},
     "output_type": "execute_result"
    }
   ],
   "source": [
    "loader.load()"
   ]
  },
  {
   "cell_type": "markdown",
   "id": "6efb2ffd-8ad2-4113-b0bb-f22045cb9b4a",
   "metadata": {},
   "source": [
    "### Get transcripts as timestamped chunks"
   ]
  },
  {
   "cell_type": "code",
   "execution_count": 7,
   "id": "785cf735-0971-4215-9820-d1a6472575eb",
   "metadata": {},
   "outputs": [
    {
     "name": "stdout",
     "output_type": "stream",
     "text": [
      "Document(metadata={'source': 'https://www.youtube.com/watch?v=KyBgxe-rU48&t=0s', 'start_seconds': 0, 'start_timestamp': '00:00:00'}, page_content=\"- [Narrator] You're walking on the street and suddenly you find a piece of gold, you pick it up and you get super curious. You have a lot of questions in your mind. One of the questions is, what happens if you were to break it? I mean, surely you can't\\nbreak it with your own hands but hey, when has that stopped you from imagining things, right? So what happens if you break this? Well, you get two pieces of\\ngold and then you wonder, well, what if you break it even further? You get even more smaller pieces. And what if you break it even further? We get even more smaller pieces.\")\n",
      "\n",
      "Document(metadata={'source': 'https://www.youtube.com/watch?v=KyBgxe-rU48&t=30s', 'start_seconds': 30, 'start_timestamp': '00:00:30'}, page_content='And now you start wondering,\\n\"Hey, can I keep doing that?\" Can I keep breaking this\\npiece of gold forever? That\\'s what we we\\'re gonna\\ntalk about in this video. This was a question that many ancient philosophers\\nfrom India, Greece, Roman, probably many more, pondered upon. They wondered, if you take any element, remember what elements are? These are roughly about\\n100 building blocks that make up all the\\nmatter in the universe')\n",
      "\n",
      "Document(metadata={'source': 'https://www.youtube.com/watch?v=KyBgxe-rU48&t=60s', 'start_seconds': 60, 'start_timestamp': '00:01:00'}, page_content=\"gold is an example of them. So they wondered, if you take any element, could you keep breaking them down forever? And a lot of them thought,\\nthat maybe the answer is no. Maybe you can't keep breaking it forever. Maybe eventually, you will get one last smallest piece of that element, a smallest piece of gold, for example, which you cannot break any further. A lot of people believed in this idea,\")\n",
      "\n",
      "Document(metadata={'source': 'https://www.youtube.com/watch?v=KyBgxe-rU48&t=90s', 'start_seconds': 90, 'start_timestamp': '00:01:30'}, page_content=\"and the Greeks actually named\\nthis smallest piece, the atom. The word atom literally means uncuttable because they believe that you\\ncannot break this even more. Now, for a long time, many people didn't believe in this idea. So for centuries, the idea\\nof atom was suppressed until it was revived back by\\nscientists like John Dalton. And today we have plenty of\\nevidence that they do exist.\")\n",
      "\n",
      "Document(metadata={'source': 'https://www.youtube.com/watch?v=KyBgxe-rU48&t=120s', 'start_seconds': 120, 'start_timestamp': '00:02:00'}, page_content=\"So, what exactly are atoms? Well, think of atoms as the\\nsmallest piece of an element that has all the\\nproperties of that element. It is literally the building\\nblock of the element itself. For example, what's a gold atom? Gold atoms are the\\nsmallest pieces of gold, which has all the properties of gold. They're the building blocks of gold. What's a carbon atom? Well, they are the\\nsmallest pieces of carbon They're the building blocks of carbon. They have all the properties of carbon.\")\n",
      "\n",
      "Document(metadata={'source': 'https://www.youtube.com/watch?v=KyBgxe-rU48&t=150s', 'start_seconds': 150, 'start_timestamp': '00:02:30'}, page_content=\"And just to give you another\\nexample, what's mercury atom? They're the smallest pieces of mercury. They have all the properties\\nof the element mercury and so on and so forth. Now, one question you could be having is, do atoms look like tiny balls? And the answer is no, it's\\njust a representation. In reality, atoms are so incredibly tiny, we can't even see them with microscopes. So how tiny are they you ask? Well, their size is\\nincredibly hard to comprehend.\")\n",
      "\n",
      "Document(metadata={'source': 'https://www.youtube.com/watch?v=KyBgxe-rU48&t=180s', 'start_seconds': 180, 'start_timestamp': '00:03:00'}, page_content=\"So here's a way to think\\nabout it, how many gold atoms do you think you will find\\nin a typical gold ring? Well, it's not millions, not\\nbillions, it's sextillions that's one followed by 21 zeros, that many atoms you'll\\nprobably find in a gold ring. And just to get a sense of this number scientists estimate that\\nthat is roughly about the total number of stars\\nin the observable universe.\")\n",
      "\n",
      "Document(metadata={'source': 'https://www.youtube.com/watch?v=KyBgxe-rU48&t=210s', 'start_seconds': 210, 'start_timestamp': '00:03:30'}, page_content=\"Let that sink in. That's\\nhow small atoms are. So long story short, almost\\nall the matter in the universe, from the microbes to dogs and cats, to mountains to planets and stars, and almost everything that\\nyou see in this universe, they're all fundamentally\\nmade of elements. These are the building blocks of all the matter in the universe. We have about 100 of them. But what are elements\\nfundamentally made of? Elements like gold or any\\nother element for that matter they are fundamentally made of atoms.\")\n",
      "\n",
      "Document(metadata={'source': 'https://www.youtube.com/watch?v=KyBgxe-rU48&t=240s', 'start_seconds': 240, 'start_timestamp': '00:04:00'}, page_content='They are the smallest\\npieces of the elements, the building blocks of the elements that contain all the\\nproperties of that element.')\n"
     ]
    }
   ],
   "source": [
    "from langchain_community.document_loaders.youtube import TranscriptFormat\n",
    "\n",
    "loader = YoutubeLoader.from_youtube_url(\n",
    "    \"https://www.youtube.com/watch?v=KyBgxe-rU48\",\n",
    "    add_video_info=False,\n",
    "    transcript_format=TranscriptFormat.CHUNKS,\n",
    "    chunk_size_seconds=30,\n",
    ")\n",
    "print(\"\\n\\n\".join(map(repr, loader.load())))"
   ]
  },
  {
   "cell_type": "markdown",
   "id": "71de7843-4a43-4112-8ecc-90fe79710d82",
   "metadata": {},
   "source": [
    "### Google Translate"
   ]
  },
  {
   "cell_type": "code",
   "execution_count": 8,
   "id": "c9c3f52e-804b-4859-ba82-8b79c077fe34",
   "metadata": {},
   "outputs": [
    {
     "name": "stdout",
     "output_type": "stream",
     "text": [
      "\n",
      "\u001b[1m[\u001b[0m\u001b[34;49mnotice\u001b[0m\u001b[1;39;49m]\u001b[0m\u001b[39;49m A new release of pip is available: \u001b[0m\u001b[31;49m24.0\u001b[0m\u001b[39;49m -> \u001b[0m\u001b[32;49m24.3.1\u001b[0m\n",
      "\u001b[1m[\u001b[0m\u001b[34;49mnotice\u001b[0m\u001b[1;39;49m]\u001b[0m\u001b[39;49m To update, run: \u001b[0m\u001b[32;49m/Library/Frameworks/Python.framework/Versions/3.11/bin/python3.11 -m pip install --upgrade pip\u001b[0m\n",
      "Note: you may need to restart the kernel to use updated packages.\n"
     ]
    }
   ],
   "source": [
    "%pip install --upgrade --quiet  google-cloud-translate\n",
    "\n"
   ]
  },
  {
   "cell_type": "code",
   "execution_count": 10,
   "id": "772191d1-52e3-4da3-8e42-71c9da6b911b",
   "metadata": {
    "scrolled": true
   },
   "outputs": [
    {
     "name": "stdout",
     "output_type": "stream",
     "text": [
      "Collecting langchain_google_community\n",
      "  Downloading langchain_google_community-2.0.4-py3-none-any.whl.metadata (3.4 kB)\n",
      "Requirement already satisfied: google-api-core<3.0.0,>=2.17.1 in /Library/Frameworks/Python.framework/Versions/3.11/lib/python3.11/site-packages (from langchain_google_community) (2.24.0)\n",
      "Collecting google-api-python-client<3.0.0,>=2.122.0 (from langchain_google_community)\n",
      "  Downloading google_api_python_client-2.159.0-py2.py3-none-any.whl.metadata (6.7 kB)\n",
      "Requirement already satisfied: google-cloud-core<3.0.0,>=2.4.1 in /Library/Frameworks/Python.framework/Versions/3.11/lib/python3.11/site-packages (from langchain_google_community) (2.4.1)\n",
      "Requirement already satisfied: grpcio<2.0.0,>=1.62.0 in /Library/Frameworks/Python.framework/Versions/3.11/lib/python3.11/site-packages (from langchain_google_community) (1.70.0)\n",
      "Requirement already satisfied: langchain-community<0.4.0,>=0.3.0 in /Library/Frameworks/Python.framework/Versions/3.11/lib/python3.11/site-packages (from langchain_google_community) (0.3.14)\n",
      "Requirement already satisfied: langchain-core<0.4,>=0.3.0 in /Library/Frameworks/Python.framework/Versions/3.11/lib/python3.11/site-packages (from langchain_google_community) (0.3.30)\n",
      "Requirement already satisfied: googleapis-common-protos<2.0.dev0,>=1.56.2 in /Library/Frameworks/Python.framework/Versions/3.11/lib/python3.11/site-packages (from google-api-core<3.0.0,>=2.17.1->langchain_google_community) (1.66.0)\n",
      "Requirement already satisfied: protobuf!=3.20.0,!=3.20.1,!=4.21.0,!=4.21.1,!=4.21.2,!=4.21.3,!=4.21.4,!=4.21.5,<6.0.0.dev0,>=3.19.5 in /Library/Frameworks/Python.framework/Versions/3.11/lib/python3.11/site-packages (from google-api-core<3.0.0,>=2.17.1->langchain_google_community) (5.29.3)\n",
      "Requirement already satisfied: proto-plus<2.0.0dev,>=1.22.3 in /Library/Frameworks/Python.framework/Versions/3.11/lib/python3.11/site-packages (from google-api-core<3.0.0,>=2.17.1->langchain_google_community) (1.25.0)\n",
      "Requirement already satisfied: google-auth<3.0.dev0,>=2.14.1 in /Library/Frameworks/Python.framework/Versions/3.11/lib/python3.11/site-packages (from google-api-core<3.0.0,>=2.17.1->langchain_google_community) (2.38.0)\n",
      "Requirement already satisfied: requests<3.0.0.dev0,>=2.18.0 in /Library/Frameworks/Python.framework/Versions/3.11/lib/python3.11/site-packages (from google-api-core<3.0.0,>=2.17.1->langchain_google_community) (2.32.3)\n",
      "Collecting httplib2<1.dev0,>=0.19.0 (from google-api-python-client<3.0.0,>=2.122.0->langchain_google_community)\n",
      "  Using cached httplib2-0.22.0-py3-none-any.whl.metadata (2.6 kB)\n",
      "Collecting google-auth-httplib2<1.0.0,>=0.2.0 (from google-api-python-client<3.0.0,>=2.122.0->langchain_google_community)\n",
      "  Using cached google_auth_httplib2-0.2.0-py2.py3-none-any.whl.metadata (2.2 kB)\n",
      "Collecting uritemplate<5,>=3.0.1 (from google-api-python-client<3.0.0,>=2.122.0->langchain_google_community)\n",
      "  Using cached uritemplate-4.1.1-py2.py3-none-any.whl.metadata (2.9 kB)\n",
      "Requirement already satisfied: PyYAML>=5.3 in /Library/Frameworks/Python.framework/Versions/3.11/lib/python3.11/site-packages (from langchain-community<0.4.0,>=0.3.0->langchain_google_community) (6.0.2)\n",
      "Requirement already satisfied: SQLAlchemy<3,>=1.4 in /Library/Frameworks/Python.framework/Versions/3.11/lib/python3.11/site-packages (from langchain-community<0.4.0,>=0.3.0->langchain_google_community) (2.0.36)\n",
      "Requirement already satisfied: aiohttp<4.0.0,>=3.8.3 in /Library/Frameworks/Python.framework/Versions/3.11/lib/python3.11/site-packages (from langchain-community<0.4.0,>=0.3.0->langchain_google_community) (3.11.11)\n",
      "Requirement already satisfied: dataclasses-json<0.7,>=0.5.7 in /Library/Frameworks/Python.framework/Versions/3.11/lib/python3.11/site-packages (from langchain-community<0.4.0,>=0.3.0->langchain_google_community) (0.6.7)\n",
      "Requirement already satisfied: httpx-sse<0.5.0,>=0.4.0 in /Library/Frameworks/Python.framework/Versions/3.11/lib/python3.11/site-packages (from langchain-community<0.4.0,>=0.3.0->langchain_google_community) (0.4.0)\n",
      "Requirement already satisfied: langchain<0.4.0,>=0.3.14 in /Library/Frameworks/Python.framework/Versions/3.11/lib/python3.11/site-packages (from langchain-community<0.4.0,>=0.3.0->langchain_google_community) (0.3.14)\n",
      "Requirement already satisfied: langsmith<0.3,>=0.1.125 in /Library/Frameworks/Python.framework/Versions/3.11/lib/python3.11/site-packages (from langchain-community<0.4.0,>=0.3.0->langchain_google_community) (0.2.11)\n",
      "Requirement already satisfied: numpy<2,>=1.22.4 in /Library/Frameworks/Python.framework/Versions/3.11/lib/python3.11/site-packages (from langchain-community<0.4.0,>=0.3.0->langchain_google_community) (1.26.4)\n",
      "Requirement already satisfied: pydantic-settings<3.0.0,>=2.4.0 in /Library/Frameworks/Python.framework/Versions/3.11/lib/python3.11/site-packages (from langchain-community<0.4.0,>=0.3.0->langchain_google_community) (2.7.1)\n",
      "Requirement already satisfied: tenacity!=8.4.0,<10,>=8.1.0 in /Library/Frameworks/Python.framework/Versions/3.11/lib/python3.11/site-packages (from langchain-community<0.4.0,>=0.3.0->langchain_google_community) (9.0.0)\n",
      "Requirement already satisfied: jsonpatch<2.0,>=1.33 in /Library/Frameworks/Python.framework/Versions/3.11/lib/python3.11/site-packages (from langchain-core<0.4,>=0.3.0->langchain_google_community) (1.33)\n",
      "Requirement already satisfied: packaging<25,>=23.2 in /Library/Frameworks/Python.framework/Versions/3.11/lib/python3.11/site-packages (from langchain-core<0.4,>=0.3.0->langchain_google_community) (24.2)\n",
      "Requirement already satisfied: pydantic<3.0.0,>=2.5.2 in /Library/Frameworks/Python.framework/Versions/3.11/lib/python3.11/site-packages (from langchain-core<0.4,>=0.3.0->langchain_google_community) (2.10.4)\n",
      "Requirement already satisfied: typing-extensions>=4.7 in /Library/Frameworks/Python.framework/Versions/3.11/lib/python3.11/site-packages (from langchain-core<0.4,>=0.3.0->langchain_google_community) (4.12.2)\n",
      "Requirement already satisfied: aiohappyeyeballs>=2.3.0 in /Library/Frameworks/Python.framework/Versions/3.11/lib/python3.11/site-packages (from aiohttp<4.0.0,>=3.8.3->langchain-community<0.4.0,>=0.3.0->langchain_google_community) (2.4.4)\n",
      "Requirement already satisfied: aiosignal>=1.1.2 in /Library/Frameworks/Python.framework/Versions/3.11/lib/python3.11/site-packages (from aiohttp<4.0.0,>=3.8.3->langchain-community<0.4.0,>=0.3.0->langchain_google_community) (1.3.2)\n",
      "Requirement already satisfied: attrs>=17.3.0 in /Library/Frameworks/Python.framework/Versions/3.11/lib/python3.11/site-packages (from aiohttp<4.0.0,>=3.8.3->langchain-community<0.4.0,>=0.3.0->langchain_google_community) (24.3.0)\n",
      "Requirement already satisfied: frozenlist>=1.1.1 in /Library/Frameworks/Python.framework/Versions/3.11/lib/python3.11/site-packages (from aiohttp<4.0.0,>=3.8.3->langchain-community<0.4.0,>=0.3.0->langchain_google_community) (1.5.0)\n",
      "Requirement already satisfied: multidict<7.0,>=4.5 in /Library/Frameworks/Python.framework/Versions/3.11/lib/python3.11/site-packages (from aiohttp<4.0.0,>=3.8.3->langchain-community<0.4.0,>=0.3.0->langchain_google_community) (6.1.0)\n",
      "Requirement already satisfied: propcache>=0.2.0 in /Library/Frameworks/Python.framework/Versions/3.11/lib/python3.11/site-packages (from aiohttp<4.0.0,>=3.8.3->langchain-community<0.4.0,>=0.3.0->langchain_google_community) (0.2.1)\n",
      "Requirement already satisfied: yarl<2.0,>=1.17.0 in /Library/Frameworks/Python.framework/Versions/3.11/lib/python3.11/site-packages (from aiohttp<4.0.0,>=3.8.3->langchain-community<0.4.0,>=0.3.0->langchain_google_community) (1.18.3)\n",
      "Requirement already satisfied: marshmallow<4.0.0,>=3.18.0 in /Library/Frameworks/Python.framework/Versions/3.11/lib/python3.11/site-packages (from dataclasses-json<0.7,>=0.5.7->langchain-community<0.4.0,>=0.3.0->langchain_google_community) (3.25.1)\n",
      "Requirement already satisfied: typing-inspect<1,>=0.4.0 in /Library/Frameworks/Python.framework/Versions/3.11/lib/python3.11/site-packages (from dataclasses-json<0.7,>=0.5.7->langchain-community<0.4.0,>=0.3.0->langchain_google_community) (0.9.0)\n",
      "Requirement already satisfied: cachetools<6.0,>=2.0.0 in /Library/Frameworks/Python.framework/Versions/3.11/lib/python3.11/site-packages (from google-auth<3.0.dev0,>=2.14.1->google-api-core<3.0.0,>=2.17.1->langchain_google_community) (5.5.1)\n",
      "Requirement already satisfied: pyasn1-modules>=0.2.1 in /Library/Frameworks/Python.framework/Versions/3.11/lib/python3.11/site-packages (from google-auth<3.0.dev0,>=2.14.1->google-api-core<3.0.0,>=2.17.1->langchain_google_community) (0.4.1)\n",
      "Requirement already satisfied: rsa<5,>=3.1.4 in /Library/Frameworks/Python.framework/Versions/3.11/lib/python3.11/site-packages (from google-auth<3.0.dev0,>=2.14.1->google-api-core<3.0.0,>=2.17.1->langchain_google_community) (4.9)\n",
      "Requirement already satisfied: pyparsing!=3.0.0,!=3.0.1,!=3.0.2,!=3.0.3,<4,>=2.4.2 in /Library/Frameworks/Python.framework/Versions/3.11/lib/python3.11/site-packages (from httplib2<1.dev0,>=0.19.0->google-api-python-client<3.0.0,>=2.122.0->langchain_google_community) (3.2.1)\n",
      "Requirement already satisfied: jsonpointer>=1.9 in /Library/Frameworks/Python.framework/Versions/3.11/lib/python3.11/site-packages (from jsonpatch<2.0,>=1.33->langchain-core<0.4,>=0.3.0->langchain_google_community) (3.0.0)\n",
      "Requirement already satisfied: langchain-text-splitters<0.4.0,>=0.3.3 in /Library/Frameworks/Python.framework/Versions/3.11/lib/python3.11/site-packages (from langchain<0.4.0,>=0.3.14->langchain-community<0.4.0,>=0.3.0->langchain_google_community) (0.3.5)\n",
      "Collecting httpx<1,>=0.23.0 (from langsmith<0.3,>=0.1.125->langchain-community<0.4.0,>=0.3.0->langchain_google_community)\n",
      "  Using cached httpx-0.28.1-py3-none-any.whl.metadata (7.1 kB)\n",
      "Requirement already satisfied: orjson<4.0.0,>=3.9.14 in /Library/Frameworks/Python.framework/Versions/3.11/lib/python3.11/site-packages (from langsmith<0.3,>=0.1.125->langchain-community<0.4.0,>=0.3.0->langchain_google_community) (3.10.14)\n",
      "Requirement already satisfied: requests-toolbelt<2.0.0,>=1.0.0 in /Library/Frameworks/Python.framework/Versions/3.11/lib/python3.11/site-packages (from langsmith<0.3,>=0.1.125->langchain-community<0.4.0,>=0.3.0->langchain_google_community) (1.0.0)\n",
      "Requirement already satisfied: annotated-types>=0.6.0 in /Library/Frameworks/Python.framework/Versions/3.11/lib/python3.11/site-packages (from pydantic<3.0.0,>=2.5.2->langchain-core<0.4,>=0.3.0->langchain_google_community) (0.7.0)\n",
      "Requirement already satisfied: pydantic-core==2.27.2 in /Library/Frameworks/Python.framework/Versions/3.11/lib/python3.11/site-packages (from pydantic<3.0.0,>=2.5.2->langchain-core<0.4,>=0.3.0->langchain_google_community) (2.27.2)\n",
      "Requirement already satisfied: python-dotenv>=0.21.0 in /Library/Frameworks/Python.framework/Versions/3.11/lib/python3.11/site-packages (from pydantic-settings<3.0.0,>=2.4.0->langchain-community<0.4.0,>=0.3.0->langchain_google_community) (1.0.1)\n",
      "Requirement already satisfied: charset-normalizer<4,>=2 in /Library/Frameworks/Python.framework/Versions/3.11/lib/python3.11/site-packages (from requests<3.0.0.dev0,>=2.18.0->google-api-core<3.0.0,>=2.17.1->langchain_google_community) (3.4.0)\n",
      "Requirement already satisfied: idna<4,>=2.5 in /Library/Frameworks/Python.framework/Versions/3.11/lib/python3.11/site-packages (from requests<3.0.0.dev0,>=2.18.0->google-api-core<3.0.0,>=2.17.1->langchain_google_community) (2.10)\n",
      "Requirement already satisfied: urllib3<3,>=1.21.1 in /Library/Frameworks/Python.framework/Versions/3.11/lib/python3.11/site-packages (from requests<3.0.0.dev0,>=2.18.0->google-api-core<3.0.0,>=2.17.1->langchain_google_community) (2.2.3)\n",
      "Requirement already satisfied: certifi>=2017.4.17 in /Library/Frameworks/Python.framework/Versions/3.11/lib/python3.11/site-packages (from requests<3.0.0.dev0,>=2.18.0->google-api-core<3.0.0,>=2.17.1->langchain_google_community) (2024.8.30)\n",
      "Requirement already satisfied: anyio in /Library/Frameworks/Python.framework/Versions/3.11/lib/python3.11/site-packages (from httpx<1,>=0.23.0->langsmith<0.3,>=0.1.125->langchain-community<0.4.0,>=0.3.0->langchain_google_community) (4.7.0)\n",
      "Collecting httpcore==1.* (from httpx<1,>=0.23.0->langsmith<0.3,>=0.1.125->langchain-community<0.4.0,>=0.3.0->langchain_google_community)\n",
      "  Using cached httpcore-1.0.7-py3-none-any.whl.metadata (21 kB)\n",
      "Collecting h11<0.15,>=0.13 (from httpcore==1.*->httpx<1,>=0.23.0->langsmith<0.3,>=0.1.125->langchain-community<0.4.0,>=0.3.0->langchain_google_community)\n",
      "  Using cached h11-0.14.0-py3-none-any.whl.metadata (8.2 kB)\n",
      "Requirement already satisfied: pyasn1<0.7.0,>=0.4.6 in /Library/Frameworks/Python.framework/Versions/3.11/lib/python3.11/site-packages (from pyasn1-modules>=0.2.1->google-auth<3.0.dev0,>=2.14.1->google-api-core<3.0.0,>=2.17.1->langchain_google_community) (0.6.1)\n",
      "Requirement already satisfied: mypy-extensions>=0.3.0 in /Library/Frameworks/Python.framework/Versions/3.11/lib/python3.11/site-packages (from typing-inspect<1,>=0.4.0->dataclasses-json<0.7,>=0.5.7->langchain-community<0.4.0,>=0.3.0->langchain_google_community) (1.0.0)\n",
      "Requirement already satisfied: sniffio>=1.1 in /Library/Frameworks/Python.framework/Versions/3.11/lib/python3.11/site-packages (from anyio->httpx<1,>=0.23.0->langsmith<0.3,>=0.1.125->langchain-community<0.4.0,>=0.3.0->langchain_google_community) (1.3.1)\n",
      "Downloading langchain_google_community-2.0.4-py3-none-any.whl (84 kB)\n",
      "\u001b[2K   \u001b[38;2;114;156;31m━━━━━━━━━━━━━━━━━━━━━━━━━━━━━━━━━━━━━━━━\u001b[0m \u001b[32m84.4/84.4 kB\u001b[0m \u001b[31m1.9 MB/s\u001b[0m eta \u001b[36m0:00:00\u001b[0m[31m3.0 MB/s\u001b[0m eta \u001b[36m0:00:01\u001b[0m\n",
      "\u001b[?25hDownloading google_api_python_client-2.159.0-py2.py3-none-any.whl (12.8 MB)\n",
      "\u001b[2K   \u001b[38;2;114;156;31m━━━━━━━━━━━━━━━━━━━━━━━━━━━━━━━━━━━━━━━━\u001b[0m \u001b[32m12.8/12.8 MB\u001b[0m \u001b[31m3.7 MB/s\u001b[0m eta \u001b[36m0:00:00\u001b[0mm eta \u001b[36m0:00:01\u001b[0m[36m0:00:01\u001b[0m\n",
      "\u001b[?25hUsing cached google_auth_httplib2-0.2.0-py2.py3-none-any.whl (9.3 kB)\n",
      "Using cached httplib2-0.22.0-py3-none-any.whl (96 kB)\n",
      "Using cached uritemplate-4.1.1-py2.py3-none-any.whl (10 kB)\n",
      "Using cached httpx-0.28.1-py3-none-any.whl (73 kB)\n",
      "Using cached httpcore-1.0.7-py3-none-any.whl (78 kB)\n",
      "Using cached h11-0.14.0-py3-none-any.whl (58 kB)\n",
      "Installing collected packages: uritemplate, httplib2, h11, httpcore, httpx, google-auth-httplib2, google-api-python-client, langchain_google_community\n",
      "  Attempting uninstall: h11\n",
      "    Found existing installation: h11 0.9.0\n",
      "    Uninstalling h11-0.9.0:\n",
      "      Successfully uninstalled h11-0.9.0\n",
      "  Attempting uninstall: httpcore\n",
      "    Found existing installation: httpcore 0.9.1\n",
      "    Uninstalling httpcore-0.9.1:\n",
      "      Successfully uninstalled httpcore-0.9.1\n",
      "  Attempting uninstall: httpx\n",
      "    Found existing installation: httpx 0.13.3\n",
      "    Uninstalling httpx-0.13.3:\n",
      "      Successfully uninstalled httpx-0.13.3\n",
      "\u001b[31mERROR: pip's dependency resolver does not currently take into account all the packages that are installed. This behaviour is the source of the following dependency conflicts.\n",
      "googletrans 4.0.0rc1 requires httpx==0.13.3, but you have httpx 0.28.1 which is incompatible.\u001b[0m\u001b[31m\n",
      "\u001b[0mSuccessfully installed google-api-python-client-2.159.0 google-auth-httplib2-0.2.0 h11-0.14.0 httpcore-1.0.7 httplib2-0.22.0 httpx-0.28.1 langchain_google_community-2.0.4 uritemplate-4.1.1\n",
      "\n",
      "\u001b[1m[\u001b[0m\u001b[34;49mnotice\u001b[0m\u001b[1;39;49m]\u001b[0m\u001b[39;49m A new release of pip is available: \u001b[0m\u001b[31;49m24.0\u001b[0m\u001b[39;49m -> \u001b[0m\u001b[32;49m24.3.1\u001b[0m\n",
      "\u001b[1m[\u001b[0m\u001b[34;49mnotice\u001b[0m\u001b[1;39;49m]\u001b[0m\u001b[39;49m To update, run: \u001b[0m\u001b[32;49m/Library/Frameworks/Python.framework/Versions/3.11/bin/python3.11 -m pip install --upgrade pip\u001b[0m\n",
      "Note: you may need to restart the kernel to use updated packages.\n"
     ]
    }
   ],
   "source": [
    "pip install langchain_google_community"
   ]
  },
  {
   "cell_type": "code",
   "execution_count": 11,
   "id": "c2a8f2c3-5feb-44d5-b6b7-110ccd965af2",
   "metadata": {},
   "outputs": [],
   "source": [
    "from langchain_core.documents import Document\n",
    "from langchain_google_community import GoogleTranslateTransformer"
   ]
  },
  {
   "cell_type": "code",
   "execution_count": 13,
   "id": "8ac00d7e-4fef-4b16-8482-83cc9c31c15b",
   "metadata": {},
   "outputs": [],
   "source": [
    "# Input text\n",
    "sample_text = \"\"\"[Generated with Google Bard]\n",
    "Subject: Key Business Process Updates\n",
    "\n",
    "Date: Friday, 27 October 2023\n",
    "\n",
    "Dear team,\n",
    "\n",
    "I am writing to provide an update on some of our key business processes.\n",
    "\n",
    "Sales process\n",
    "\n",
    "We have recently implemented a new sales process that is designed to help us close more deals and grow our revenue. The new process includes a more rigorous qualification process, a more streamlined proposal process, and a more effective customer relationship management (CRM) system.\n",
    "\n",
    "Marketing process\n",
    "\n",
    "We have also revamped our marketing process to focus on creating more targeted and engaging content. We are also using more social media and paid advertising to reach a wider audience.\n",
    "\n",
    "Customer service process\n",
    "\n",
    "We have also made some improvements to our customer service process. We have implemented a new customer support system that makes it easier for customers to get help with their problems. We have also hired more customer support representatives to reduce wait times.\n",
    "\n",
    "Overall, we are very pleased with the progress we have made on improving our key business processes. We believe that these changes will help us to achieve our goals of growing our business and providing our customers with the best possible experience.\n",
    "\n",
    "If you have any questions or feedback about any of these changes, please feel free to contact me directly.\n",
    "\n",
    "Thank you,\n",
    "\n",
    "Lewis Cymbal\n",
    "CEO, Cymbal Bank\n",
    "\"\"\""
   ]
  },
  {
   "cell_type": "code",
   "execution_count": null,
   "id": "7685a05b-bbe6-4f01-a586-17d0063af4ef",
   "metadata": {},
   "outputs": [],
   "source": [
    "documents = [Document(page_content=sample_text)]\n",
    "translator = GoogleTranslateTransformer(project_id=\"poctranslation-449009\")"
   ]
  }
 ],
 "metadata": {
  "kernelspec": {
   "display_name": "Python 3 (ipykernel)",
   "language": "python",
   "name": "python3"
  },
  "language_info": {
   "codemirror_mode": {
    "name": "ipython",
    "version": 3
   },
   "file_extension": ".py",
   "mimetype": "text/x-python",
   "name": "python",
   "nbconvert_exporter": "python",
   "pygments_lexer": "ipython3",
   "version": "3.11.9"
  }
 },
 "nbformat": 4,
 "nbformat_minor": 5
}
